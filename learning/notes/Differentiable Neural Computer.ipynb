{
 "cells": [
  {
   "cell_type": "markdown",
   "metadata": {},
   "source": [
    "long term memories. reference 12 and 13 \n",
    "\"In general, key-value retrieval provides a rich\n",
    "mechanism for navigating associative data structures in the external\n",
    "memory, because the content of one address can effectively encode\n",
    "references to other addresses.\"\n",
    "Attention mechamisms\n",
    "SEcond: we create a matrix L (NxN) which contains the history of the transitions, such that Lw will predict the next weighthing. Also, L^Tw predicts teh previous weighthing.\n",
    "Third: we keep a vector of the usage of every memory. we increment if we write in a memory slot, and decrement in each read (why?) what if you try decrement in each non-write? I guess the write/read is a real betwen 0 adn 1\n",
    "elements: activation functions are useful in making something to be in a desired range.\n",
    "\n",
    "\n",
    "consider that they have multiple reads heads, why?\n",
    "free list allocation schema: we keep a list of all the memory slots that are free.\n",
    "\n",
    "\n",
    "gate(gate(content-based write, free slots), 0)\n",
    "\n",
    "note that the two gates are scalars instead of vectors. Does it make sense to make them vectors?\n",
    "\n",
    "What we read is given by what the controller decided in the previous iteration. Thus, what you read in the step t is given by the task input in the step t-1. What if we want to act without delay on the time t? \n",
    "\n",
    "idea: it would be good to have a way to search equations with latex\n",
    "sos el padrino de gonzi\n",
    "green library rooms aillie\n"
   ]
  }
 ],
 "metadata": {
  "kernelspec": {
   "display_name": "Python 3",
   "language": "python",
   "name": "python3"
  },
  "language_info": {
   "codemirror_mode": {
    "name": "ipython",
    "version": 3
   },
   "file_extension": ".py",
   "mimetype": "text/x-python",
   "name": "python",
   "nbconvert_exporter": "python",
   "pygments_lexer": "ipython3",
   "version": "3.6.7"
  }
 },
 "nbformat": 4,
 "nbformat_minor": 2
}
